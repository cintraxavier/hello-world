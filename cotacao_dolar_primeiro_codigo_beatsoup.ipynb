{
  "nbformat": 4,
  "nbformat_minor": 0,
  "metadata": {
    "colab": {
      "provenance": [],
      "authorship_tag": "ABX9TyM3nZvRBp+CYBsETJ1F2K7w",
      "include_colab_link": true
    },
    "kernelspec": {
      "name": "python3",
      "display_name": "Python 3"
    },
    "language_info": {
      "name": "python"
    }
  },
  "cells": [
    {
      "cell_type": "markdown",
      "metadata": {
        "id": "view-in-github",
        "colab_type": "text"
      },
      "source": [
        "<a href=\"https://colab.research.google.com/github/cintraxavier/hello-world/blob/master/cotacao_dolar_primeiro_codigo_beatsoup.ipynb\" target=\"_parent\"><img src=\"https://colab.research.google.com/assets/colab-badge.svg\" alt=\"Open In Colab\"/></a>"
      ]
    },
    {
      "cell_type": "code",
      "execution_count": 1,
      "metadata": {
        "colab": {
          "base_uri": "https://localhost:8080/"
        },
        "id": "mEbeSaKaOdu-",
        "outputId": "63b606ab-23e7-42f3-9c6d-4be92ae4f37c"
      },
      "outputs": [
        {
          "output_type": "stream",
          "name": "stdout",
          "text": [
            "Collecting panda\n",
            "  Downloading panda-0.3.1.tar.gz (5.8 kB)\n",
            "  Preparing metadata (setup.py) ... \u001b[?25l\u001b[?25hdone\n",
            "Requirement already satisfied: setuptools in /usr/local/lib/python3.12/dist-packages (from panda) (75.2.0)\n",
            "Requirement already satisfied: requests in /usr/local/lib/python3.12/dist-packages (from panda) (2.32.4)\n",
            "Requirement already satisfied: charset_normalizer<4,>=2 in /usr/local/lib/python3.12/dist-packages (from requests->panda) (3.4.3)\n",
            "Requirement already satisfied: idna<4,>=2.5 in /usr/local/lib/python3.12/dist-packages (from requests->panda) (3.10)\n",
            "Requirement already satisfied: urllib3<3,>=1.21.1 in /usr/local/lib/python3.12/dist-packages (from requests->panda) (2.5.0)\n",
            "Requirement already satisfied: certifi>=2017.4.17 in /usr/local/lib/python3.12/dist-packages (from requests->panda) (2025.8.3)\n",
            "Building wheels for collected packages: panda\n",
            "  Building wheel for panda (setup.py) ... \u001b[?25l\u001b[?25hdone\n",
            "  Created wheel for panda: filename=panda-0.3.1-py3-none-any.whl size=7239 sha256=43ad5e5f8252ad9881427a8f6983331bb08cda34cc0fa3a3c9426bf3c297fb53\n",
            "  Stored in directory: /root/.cache/pip/wheels/98/41/5b/6ca54e0b6a35e1b7248c12f56fcb753dfb7717fefaa0fb45f5\n",
            "Successfully built panda\n",
            "Installing collected packages: panda\n",
            "Successfully installed panda-0.3.1\n",
            "Requirement already satisfied: html5lib in /usr/local/lib/python3.12/dist-packages (1.1)\n",
            "Requirement already satisfied: six>=1.9 in /usr/local/lib/python3.12/dist-packages (from html5lib) (1.17.0)\n",
            "Requirement already satisfied: webencodings in /usr/local/lib/python3.12/dist-packages (from html5lib) (0.5.1)\n"
          ]
        }
      ],
      "source": [
        "!pip install panda\n",
        "!pip install html5lib"
      ]
    },
    {
      "cell_type": "code",
      "source": [
        "import pandas as pd\n",
        "import warnings\n",
        "\n",
        "# Ignora avisos para um código mais limpo\n",
        "warnings.filterwarnings('ignore')\n",
        "\n",
        "# URL da página com a cotação do dólar\n",
        "url = 'https://br.investing.com/currencies/usd-brl'\n",
        "\n",
        "try:\n",
        "    # Lê a tabela da página. O Pandas procura por tabelas HTML\n",
        "    tabelas = pd.read_html(url, match='Cotação')\n",
        "\n",
        "    # A tabela com a cotação geralmente é a primeira que o Pandas encontra\n",
        "    tabela_cotacao = tabelas[0]\n",
        "\n",
        "    print(\"Cotação encontrada:\")\n",
        "    print(tabela_cotacao)\n",
        "\n",
        "    # Para obter apenas o valor atual da cotação\n",
        "    # O valor costuma estar em uma célula específica, por exemplo, na primeira linha e segunda coluna\n",
        "    cotacao_dolar = tabela_cotacao.iloc[0, 1]\n",
        "    print(f\"\\nO valor atual do Dólar (USD/BRL) é: {cotacao_dolar}\")\n",
        "\n",
        "except IndexError:\n",
        "    print(\"Não foi possível encontrar a tabela de cotação na URL fornecida.\")\n",
        "except Exception as e:\n",
        "    print(f\"Ocorreu um erro: {e}\")"
      ],
      "metadata": {
        "colab": {
          "base_uri": "https://localhost:8080/"
        },
        "id": "MgzPtk9_PH10",
        "outputId": "1ea595d0-08eb-44f5-ba3a-cde61c4be167"
      },
      "execution_count": 2,
      "outputs": [
        {
          "output_type": "stream",
          "name": "stdout",
          "text": [
            "Ocorreu um erro: HTTP Error 403: Forbidden\n"
          ]
        }
      ]
    },
    {
      "cell_type": "code",
      "source": [
        "!pip install pandas requests html5lib\n"
      ],
      "metadata": {
        "colab": {
          "base_uri": "https://localhost:8080/"
        },
        "id": "QMiu7hMYPzEP",
        "outputId": "a972578f-cd05-466d-9070-87bf845e4c6b"
      },
      "execution_count": 3,
      "outputs": [
        {
          "output_type": "stream",
          "name": "stdout",
          "text": [
            "Requirement already satisfied: pandas in /usr/local/lib/python3.12/dist-packages (2.2.2)\n",
            "Requirement already satisfied: requests in /usr/local/lib/python3.12/dist-packages (2.32.4)\n",
            "Requirement already satisfied: html5lib in /usr/local/lib/python3.12/dist-packages (1.1)\n",
            "Requirement already satisfied: numpy>=1.26.0 in /usr/local/lib/python3.12/dist-packages (from pandas) (2.0.2)\n",
            "Requirement already satisfied: python-dateutil>=2.8.2 in /usr/local/lib/python3.12/dist-packages (from pandas) (2.9.0.post0)\n",
            "Requirement already satisfied: pytz>=2020.1 in /usr/local/lib/python3.12/dist-packages (from pandas) (2025.2)\n",
            "Requirement already satisfied: tzdata>=2022.7 in /usr/local/lib/python3.12/dist-packages (from pandas) (2025.2)\n",
            "Requirement already satisfied: charset_normalizer<4,>=2 in /usr/local/lib/python3.12/dist-packages (from requests) (3.4.3)\n",
            "Requirement already satisfied: idna<4,>=2.5 in /usr/local/lib/python3.12/dist-packages (from requests) (3.10)\n",
            "Requirement already satisfied: urllib3<3,>=1.21.1 in /usr/local/lib/python3.12/dist-packages (from requests) (2.5.0)\n",
            "Requirement already satisfied: certifi>=2017.4.17 in /usr/local/lib/python3.12/dist-packages (from requests) (2025.8.3)\n",
            "Requirement already satisfied: six>=1.9 in /usr/local/lib/python3.12/dist-packages (from html5lib) (1.17.0)\n",
            "Requirement already satisfied: webencodings in /usr/local/lib/python3.12/dist-packages (from html5lib) (0.5.1)\n"
          ]
        }
      ]
    },
    {
      "cell_type": "code",
      "source": [
        "import pandas as pd\n",
        "import requests\n",
        "from io import StringIO\n",
        "import warnings\n",
        "\n",
        "# Ignora avisos para um código mais limpo\n",
        "warnings.filterwarnings('ignore')\n",
        "\n",
        "# URL da página com a cotação do dólar\n",
        "url = 'https://br.investing.com/currencies/usd-brl'\n",
        "\n",
        "# Headers para simular um navegador\n",
        "headers = {\n",
        "    'User-Agent': 'Mozilla/5.0 (Windows NT 10.0; Win64; x64) AppleWebKit/537.36 (KHTML, like Gecko) Chrome/58.0.3029.110 Safari/537.3'\n",
        "}\n",
        "\n",
        "try:\n",
        "    # Faz a requisição HTTP com os headers para obter o conteúdo da página\n",
        "    response = requests.get(url, headers=headers)\n",
        "\n",
        "    # Verifica se a requisição foi bem-sucedida (status code 200)\n",
        "    response.raise_for_status()\n",
        "\n",
        "    # Converte o conteúdo da resposta para um objeto de arquivo virtual\n",
        "    html_content = StringIO(response.text)\n",
        "\n",
        "    # Lê a tabela do conteúdo HTML obtido\n",
        "    tabelas = pd.read_html(html_content, match='Cotação')\n",
        "\n",
        "    # A tabela com a cotação geralmente é a primeira que o Pandas encontra\n",
        "    tabela_cotacao = tabelas[0]\n",
        "\n",
        "    print(\"Cotação encontrada:\")\n",
        "    print(tabela_cotacao)\n",
        "\n",
        "    # Para obter apenas o valor atual da cotação\n",
        "    # O valor costuma estar na primeira linha e segunda coluna\n",
        "    cotacao_dolar = tabela_cotacao.iloc[0, 1]\n",
        "    print(f\"\\nO valor atual do Dólar (USD/BRL) é: {cotacao_dolar}\")\n",
        "\n",
        "except IndexError:\n",
        "    print(\"Não foi possível encontrar a tabela de cotação na URL fornecida.\")\n",
        "except requests.exceptions.HTTPError as errh:\n",
        "    print(f\"Erro HTTP: {errh}\")\n",
        "except requests.exceptions.ConnectionError as errc:\n",
        "    print(f\"Erro de Conexão: {errc}\")\n",
        "except requests.exceptions.Timeout as errt:\n",
        "    print(f\"Timeout: {errt}\")\n",
        "except requests.exceptions.RequestException as err:\n",
        "    print(f\"Ocorreu um erro ao fazer a requisição: {err}\")\n",
        "except Exception as e:\n",
        "    print(f\"Ocorreu um erro inesperado: {e}\")"
      ],
      "metadata": {
        "colab": {
          "base_uri": "https://localhost:8080/"
        },
        "id": "OWqE0eCvP2a_",
        "outputId": "5cedbc43-23d6-496c-a3e0-23d145481156"
      },
      "execution_count": 4,
      "outputs": [
        {
          "output_type": "stream",
          "name": "stdout",
          "text": [
            "Erro HTTP: 403 Client Error: Forbidden for url: https://br.investing.com/currencies/usd-brl\n"
          ]
        }
      ]
    },
    {
      "cell_type": "code",
      "source": [
        "!pip install pandas requests beautifulsoup4\n"
      ],
      "metadata": {
        "colab": {
          "base_uri": "https://localhost:8080/"
        },
        "id": "vnYIq1AfRA_k",
        "outputId": "11975180-9a18-443c-ada7-d74d115898cf"
      },
      "execution_count": 5,
      "outputs": [
        {
          "output_type": "stream",
          "name": "stdout",
          "text": [
            "Requirement already satisfied: pandas in /usr/local/lib/python3.12/dist-packages (2.2.2)\n",
            "Requirement already satisfied: requests in /usr/local/lib/python3.12/dist-packages (2.32.4)\n",
            "Requirement already satisfied: beautifulsoup4 in /usr/local/lib/python3.12/dist-packages (4.13.5)\n",
            "Requirement already satisfied: numpy>=1.26.0 in /usr/local/lib/python3.12/dist-packages (from pandas) (2.0.2)\n",
            "Requirement already satisfied: python-dateutil>=2.8.2 in /usr/local/lib/python3.12/dist-packages (from pandas) (2.9.0.post0)\n",
            "Requirement already satisfied: pytz>=2020.1 in /usr/local/lib/python3.12/dist-packages (from pandas) (2025.2)\n",
            "Requirement already satisfied: tzdata>=2022.7 in /usr/local/lib/python3.12/dist-packages (from pandas) (2025.2)\n",
            "Requirement already satisfied: charset_normalizer<4,>=2 in /usr/local/lib/python3.12/dist-packages (from requests) (3.4.3)\n",
            "Requirement already satisfied: idna<4,>=2.5 in /usr/local/lib/python3.12/dist-packages (from requests) (3.10)\n",
            "Requirement already satisfied: urllib3<3,>=1.21.1 in /usr/local/lib/python3.12/dist-packages (from requests) (2.5.0)\n",
            "Requirement already satisfied: certifi>=2017.4.17 in /usr/local/lib/python3.12/dist-packages (from requests) (2025.8.3)\n",
            "Requirement already satisfied: soupsieve>1.2 in /usr/local/lib/python3.12/dist-packages (from beautifulsoup4) (2.7)\n",
            "Requirement already satisfied: typing-extensions>=4.0.0 in /usr/local/lib/python3.12/dist-packages (from beautifulsoup4) (4.15.0)\n",
            "Requirement already satisfied: six>=1.5 in /usr/local/lib/python3.12/dist-packages (from python-dateutil>=2.8.2->pandas) (1.17.0)\n"
          ]
        }
      ]
    },
    {
      "cell_type": "code",
      "source": [
        "import pandas as pd\n",
        "import requests\n",
        "from bs4 import BeautifulSoup\n",
        "import warnings\n",
        "\n",
        "# Ignora avisos para um código mais limpo\n",
        "warnings.filterwarnings('ignore')\n",
        "\n",
        "# URL da página com a cotação do dólar no Yahoo Finance\n",
        "url = 'https://finance.yahoo.com/quote/USDBRL=X/'\n",
        "\n",
        "# Headers para simular um navegador\n",
        "headers = {\n",
        "    'User-Agent': 'Mozilla/5.0 (Windows NT 10.0; Win64; x64) AppleWebKit/537.36 (KHTML, like Gecko) Chrome/58.0.3029.110 Safari/537.3'\n",
        "}\n",
        "\n",
        "try:\n",
        "    # Faz a requisição HTTP com os headers\n",
        "    response = requests.get(url, headers=headers)\n",
        "    response.raise_for_status()\n",
        "\n",
        "    # Usa BeautifulSoup para analisar o conteúdo HTML da página\n",
        "    soup = BeautifulSoup(response.text, 'html.parser')\n",
        "\n",
        "    # Encontra o elemento HTML que contém a cotação\n",
        "    # A cotação está geralmente dentro de uma tag div com um atributo de dado específico\n",
        "    cotacao_element = soup.find('fin-streamer', {'data-field': 'regularMarketPrice'})\n",
        "\n",
        "    if cotacao_element:\n",
        "        cotacao_dolar = cotacao_element.text\n",
        "        print(\"Cotação encontrada:\")\n",
        "        print(f\"O valor atual do Dólar (USD/BRL) é: {cotacao_dolar}\")\n",
        "    else:\n",
        "        print(\"Não foi possível encontrar a cotação na URL fornecida. A estrutura do site pode ter mudado.\")\n",
        "\n",
        "except requests.exceptions.HTTPError as errh:\n",
        "    print(f\"Erro HTTP: {errh}\")\n",
        "except requests.exceptions.ConnectionError as errc:\n",
        "    print(f\"Erro de Conexão: {errc}\")\n",
        "except requests.exceptions.Timeout as errt:\n",
        "    print(f\"Timeout: {errt}\")\n",
        "except requests.exceptions.RequestException as err:\n",
        "    print(f\"Ocorreu um erro ao fazer a requisição: {err}\")\n",
        "except Exception as e:\n",
        "    print(f\"Ocorreu um erro inesperado: {e}\")"
      ],
      "metadata": {
        "colab": {
          "base_uri": "https://localhost:8080/"
        },
        "id": "5ys_q_fsREtz",
        "outputId": "decab47e-af49-4c09-808b-42a47415ac79"
      },
      "execution_count": 6,
      "outputs": [
        {
          "output_type": "stream",
          "name": "stdout",
          "text": [
            "Erro HTTP: 404 Client Error: Not Found for url: https://finance.yahoo.com/quote/USDBRL=X/\n"
          ]
        }
      ]
    },
    {
      "cell_type": "code",
      "source": [
        "import pandas as pd\n",
        "import requests\n",
        "import warnings\n",
        "\n",
        "# Ignora avisos para um código mais limpo\n",
        "warnings.filterwarnings('ignore')\n",
        "\n",
        "# URL da API do Banco Central para a cotação do dólar\n",
        "# A API usa o formato OData e permite filtrar por data\n",
        "url_bcb = 'https://olinda.bcb.gov.br/olinda/servico/PTAX/versao/v1/odata/CotacaoDolarDia(dataCotacao=@dataCotacao)?@dataCotacao=\\'09-01-2025\\'&$format=json'\n",
        "\n",
        "# Neste exemplo, usei uma data fixa para demonstrar.\n",
        "# Para pegar a cotação do dia, você pode usar a data de hoje.\n",
        "from datetime import date\n",
        "data_hoje = date.today().strftime('%m-%d-%Y')\n",
        "url_bcb = f'https://olinda.bcb.gov.br/olinda/servico/PTAX/versao/v1/odata/CotacaoDolarDia(dataCotacao=@dataCotacao)?@dataCotacao=\\'{data_hoje}\\'&$format=json'\n",
        "\n",
        "\n",
        "try:\n",
        "    # Faz a requisição HTTP para a API\n",
        "    response = requests.get(url_bcb)\n",
        "    response.raise_for_status() # Verifica se a requisição deu certo\n",
        "\n",
        "    # Converte a resposta JSON para um dicionário Python\n",
        "    dados = response.json()\n",
        "\n",
        "    # A cotação está na lista 'value'\n",
        "    if dados['value']:\n",
        "        cotacao_venda = dados['value'][0]['cotacaoVenda']\n",
        "        print(\"Cotação encontrada via API do Banco Central:\")\n",
        "        print(f\"O valor de venda do Dólar (USD/BRL) é: {cotacao_venda}\")\n",
        "    else:\n",
        "        print(\"Não foi encontrada cotação para a data de hoje.\")\n",
        "\n",
        "except requests.exceptions.HTTPError as errh:\n",
        "    print(f\"Erro HTTP: {errh}. A API pode estar com problemas ou o formato da URL está incorreto.\")\n",
        "except requests.exceptions.ConnectionError as errc:\n",
        "    print(f\"Erro de Conexão: {errc}\")\n",
        "except requests.exceptions.Timeout as errt:\n",
        "    print(f\"Timeout: {errt}\")\n",
        "except requests.exceptions.RequestException as err:\n",
        "    print(f\"Ocorreu um erro ao fazer a requisição: {err}\")\n",
        "except Exception as e:\n",
        "    print(f\"Ocorreu um erro inesperado: {e}\")"
      ],
      "metadata": {
        "colab": {
          "base_uri": "https://localhost:8080/"
        },
        "id": "2Do47G2oSFqd",
        "outputId": "47ec0e77-31d6-4b98-d945-079f9a9a694b"
      },
      "execution_count": 9,
      "outputs": [
        {
          "output_type": "stream",
          "name": "stdout",
          "text": [
            "Não foi encontrada cotação para a data de hoje.\n"
          ]
        }
      ]
    }
  ]
}